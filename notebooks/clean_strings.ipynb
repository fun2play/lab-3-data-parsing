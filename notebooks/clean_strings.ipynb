{
 "cells": [
  {
   "cell_type": "code",
   "execution_count": 10,
   "id": "e561db37",
   "metadata": {},
   "outputs": [],
   "source": [
    "import pandas as pd\n",
    "df = pd.read_csv(\"../data/messy_strings.csv\")"
   ]
  },
  {
   "cell_type": "code",
   "execution_count": 11,
   "id": "38e5eb8b",
   "metadata": {},
   "outputs": [
    {
     "data": {
      "text/plain": [
       "0      bob\n",
       "1     dana\n",
       "2      eve\n",
       "3    alice\n",
       "4      bob\n",
       "Name: clean, dtype: object"
      ]
     },
     "execution_count": 11,
     "metadata": {},
     "output_type": "execute_result"
    }
   ],
   "source": [
    "import string\n",
    "def clean_strings(strings):\n",
    "    strings = strings.str.strip()\n",
    "    strings = strings.str.lower()\n",
    "    strings = strings.str.replace(f'[{string.punctuation}]','', regex=True)\n",
    "    strings.dropna(inplace=True)\n",
    "    return strings\n",
    "\n",
    "df['clean'] = clean_strings(df['raw'])\n",
    "df['clean'].head()"
   ]
  },
  {
   "cell_type": "code",
   "execution_count": 24,
   "id": "fc1d77f4",
   "metadata": {},
   "outputs": [
    {
     "name": "stdout",
     "output_type": "stream",
     "text": [
      "50\n",
      "7\n",
      "charlie\n"
     ]
    }
   ],
   "source": [
    "rows, unique_count, common_string = len(df['clean']), df['clean'].nunique(), df['clean'].value_counts().idxmax()\n",
    "print(rows)\n",
    "print(unique_count)\n",
    "print(common_string)"
   ]
  },
  {
   "cell_type": "code",
   "execution_count": 25,
   "id": "297e46b6",
   "metadata": {},
   "outputs": [],
   "source": [
    "df.to_csv('../data/messy_strings_clean.csv',index=False)"
   ]
  },
  {
   "cell_type": "code",
   "execution_count": 26,
   "id": "ab805956",
   "metadata": {},
   "outputs": [
    {
     "data": {
      "text/plain": [
       "<Axes: xlabel='clean'>"
      ]
     },
     "execution_count": 26,
     "metadata": {},
     "output_type": "execute_result"
    },
    {
     "data": {
      "image/png": "[encoded data removed]",
      "text/plain": [
       "<Figure size 640x480 with 1 Axes>"
      ]
     },
     "metadata": {},
     "output_type": "display_data"
    }
   ],
   "source": [
    "df['clean'].value_counts().head(5).plot.bar()"
   ]
  }
 ],
 "metadata": {
  "kernelspec": {
   "display_name": "lab_3",
   "language": "python",
   "name": "python3"
  },
  "language_info": {
   "codemirror_mode": {
    "name": "ipython",
    "version": 3
   },
   "file_extension": ".py",
   "mimetype": "text/x-python",
   "name": "python",
   "nbconvert_exporter": "python",
   "pygments_lexer": "ipython3",
   "version": "3.13.5"
  }
 },
 "nbformat": 4,
 "nbformat_minor": 5
}
