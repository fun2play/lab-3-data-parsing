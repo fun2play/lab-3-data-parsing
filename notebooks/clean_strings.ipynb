{
 "cells": [
  {
   "cell_type": "code",
   "execution_count": 6,
   "id": "e561db37",
   "metadata": {},
   "outputs": [],
   "source": [
    "import pandas as pd\n",
    "f_raw = pd.read_csv(\"../data/messy_strings.csv\")"
   ]
  },
  {
   "cell_type": "code",
   "execution_count": null,
   "id": "38e5eb8b",
   "metadata": {},
   "outputs": [],
   "source": [
    "def clean_strings(strings):\n",
    "    strings = strings.str.strip()\n",
    "    strings = strings.str.lower()\n",
    "    strings = strings.str.replace(f'[{string.punctuation}]','', regex=True)\n",
    "    strings.dropna(inplace=True)\n",
    "    return strings\n"
   ]
  }
 ],
 "metadata": {
  "kernelspec": {
   "display_name": "lab_3",
   "language": "python",
   "name": "python3"
  },
  "language_info": {
   "codemirror_mode": {
    "name": "ipython",
    "version": 3
   },
   "file_extension": ".py",
   "mimetype": "text/x-python",
   "name": "python",
   "nbconvert_exporter": "python",
   "pygments_lexer": "ipython3",
   "version": "3.13.5"
  }
 },
 "nbformat": 4,
 "nbformat_minor": 5
}
